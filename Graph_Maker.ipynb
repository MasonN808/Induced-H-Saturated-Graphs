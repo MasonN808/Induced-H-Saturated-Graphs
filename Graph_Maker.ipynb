{
 "cells": [
  {
   "cell_type": "code",
   "execution_count": 1,
   "metadata": {
    "collapsed": false
   },
   "outputs": [
    {
     "name": "stdout",
     "output_type": "stream",
     "text": [
      "{0:[1, 9],1:[7, 2],2:[3, 8],3:[4, 11, 1],4:[5, 11],5:[6, 3, 10],6:[7, 10],7:[0, 5, 9],8:[0, 1],9:[6],10:[4],11:[2]}\n"
     ]
    }
   ],
   "source": [
    "import numpy as np\n",
    "\n",
    "\n",
    "def noDuplicates(seq):\n",
    "  \"\"\"\n",
    "  Deletes duplicates in a sequence/list while preserving order.\n",
    "\n",
    "  Args:\n",
    "    seq: A list of any type.\n",
    "\n",
    "  Returns:\n",
    "    A sequence with no duplicates.\n",
    "\n",
    "  \"\"\"\n",
    "  seen = set()\n",
    "  seen_add = seen.add\n",
    "  return [x for x in seq if not (x in seen or seen_add(x))]\n",
    "\n",
    "def graphImporter(snipet):\n",
    "  \"\"\"\n",
    "  Converts markdown to Sage syntax for graph creation.\n",
    "\n",
    "  Args:\n",
    "    snipet: A string snipet from the \"https://csacademy.com/app/graph_editor\" url when you generate the markup of the graph.\n",
    "\n",
    "  Returns:\n",
    "    Usable code to make graph in Sage.\n",
    "\n",
    "  \"\"\"\n",
    "  s = snipet[snipet.find(\"edges\"):]\n",
    "  l = []\n",
    "  # append all the numbers (including n digits) to the list l\n",
    "  i = 0\n",
    "  while i < len(s):\n",
    "    # check if first char is digit\n",
    "    if s[i].isdigit():\n",
    "      k = 1\n",
    "      temp = str(s[i])\n",
    "      #check if 2nd char is digit and 3rd...\n",
    "      while(s[i+k].isdigit()):\n",
    "        if s[i+k].isdigit():\n",
    "          temp += (str(s[i+k]))\n",
    "        k += 1\n",
    "      i += k\n",
    "      l.append(temp)\n",
    "    else: i += 1\n",
    "\n",
    "\n",
    "  #convert type char to type int in l\n",
    "  for i in range(0, len(l)):\n",
    "      l[i] = int(l[i])\n",
    "\n",
    "  # get the evens/sources in the list of ints l\n",
    "  sources = l[::2]\n",
    "  # get the odds/targets in the list of ints l\n",
    "  targets = l[1::2]\n",
    "  #declare empty array for targets\n",
    "  temp = []\n",
    "  # sort sources and targets using ordering idx\n",
    "  idx   = np.argsort(sources)\n",
    "  sources = np.array(sources)[idx].tolist()\n",
    "  targets = np.array(targets)[idx].tolist()\n",
    "\n",
    "  # define new copy of sources since we are deleting elements until temp_sources is empty\n",
    "  temp_sources = sources\n",
    "  i = 0\n",
    "  noDupSources = noDuplicates(sources)\n",
    "  # appends segments of target to a matrix with corresponding sources\n",
    "  while i < len(noDupSources):\n",
    "    rev = sources[::-1]\n",
    "    index = len(temp_sources) - rev.index(temp_sources[0]) - 1\n",
    "    temp.append(targets[0:index+1])\n",
    "    temp_sources = temp_sources[index+1:]\n",
    "    targets = targets[index+1:]\n",
    "    # testing below here\n",
    "    # print(temp_sources)\n",
    "    # print(targets)\n",
    "    i += 1\n",
    "\n",
    "  \n",
    "  # convert temp list to numpy matrix\n",
    "  # targetMatrix = np.append(temp, axis=0)\n",
    "  final = \"{\" \n",
    "  j = 0\n",
    "\n",
    "  # testing below\n",
    "  # print(noDupSources)\n",
    "  for i in noDupSources:\n",
    "    final += str(i) + \":\" + str(temp[j])\n",
    "    if j != len(noDupSources)-1:\n",
    "      final += \",\"\n",
    "    j += 1\n",
    "  return final + \"}\"\n",
    "\n",
    "\n",
    "\n",
    "\n",
    "\n",
    "# Testing\n",
    "if __name__== '__main__':\n",
    "  snipet = \" edges={[{source:7,target:0},{source:0,target:1},{source:1,target:2},{source:2,target:3},{source:3,target:4},{source:4,target:5},{source:5,target:6},{source:6,target:7},{source:7,target:5},{source:5,target:3},{source:3,target:1},{source:1,target:7},{source:0,target:9},{source:9,target:6},{source:6,target:10},{source:10,target:4},{source:4,target:11},{source:11,target:2},{source:2,target:8},{source:8,target:0},{source:8,target:1},{source:3,target:11},{source:5,target:10},{source:7,target:9}]}\"\n",
    "  # get it to something like {0:[1,6,11],1:[0,11,2,3],2:[8,3],3:[4,5],4:[10,5],5:[6,7],6:[7],7:[8,9],8:[9],9:[10,11],10:[11]}\n",
    "  g = graphImporter(snipet)\n",
    "  print(g)"
   ]
  },
  {
   "cell_type": "code",
   "execution_count": 0,
   "metadata": {
    "collapsed": false
   },
   "outputs": [
   ],
   "source": [
   ]
  }
 ],
 "metadata": {
  "kernelspec": {
   "display_name": "SageMath 9.3",
   "language": "sagemath",
   "metadata": {
    "cocalc": {
     "description": "Open-source mathematical software system",
     "priority": 10,
     "url": "https://www.sagemath.org/"
    }
   },
   "name": "sage-9.3",
   "resource_dir": "/ext/jupyter/kernels/sage-9.3"
  },
  "language_info": {
   "codemirror_mode": {
    "name": "ipython",
    "version": 3
   },
   "file_extension": ".py",
   "mimetype": "text/x-python",
   "name": "python",
   "nbconvert_exporter": "python",
   "pygments_lexer": "ipython3",
   "version": "3.9.2"
  }
 },
 "nbformat": 4,
 "nbformat_minor": 4
}